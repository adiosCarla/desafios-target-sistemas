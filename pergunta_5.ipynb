{
 "cells": [
  {
   "cell_type": "code",
   "execution_count": 1,
   "id": "bba750c3",
   "metadata": {
    "scrolled": true
   },
   "outputs": [
    {
     "name": "stdout",
     "output_type": "stream",
     "text": [
      "Digite uma palavra ou frase para ser invertida: Everybody wants to rule the world\n",
      "A string que você digitou invertida fica: dlrow eht elur ot stnaw ydobyrevE\n"
     ]
    }
   ],
   "source": [
    "string_invertida = \"\"\n",
    "string = input(\"Digite uma palavra ou frase para ser invertida: \")\n",
    "\n",
    "for i in string:\n",
    "    string_invertida = i + string_invertida\n",
    "print(\"A string que você digitou invertida fica: {}\".format(string_invertida))"
   ]
  }
 ],
 "metadata": {
  "kernelspec": {
   "display_name": "Python 3 (ipykernel)",
   "language": "python",
   "name": "python3"
  },
  "language_info": {
   "codemirror_mode": {
    "name": "ipython",
    "version": 3
   },
   "file_extension": ".py",
   "mimetype": "text/x-python",
   "name": "python",
   "nbconvert_exporter": "python",
   "pygments_lexer": "ipython3",
   "version": "3.9.0"
  }
 },
 "nbformat": 4,
 "nbformat_minor": 5
}
