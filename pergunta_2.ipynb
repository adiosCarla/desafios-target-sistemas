{
 "cells": [
  {
   "cell_type": "code",
   "execution_count": 15,
   "id": "8aa1ceba",
   "metadata": {},
   "outputs": [
    {
     "name": "stdout",
     "output_type": "stream",
     "text": [
      "Digite um número positivo: 4\n"
     ]
    }
   ],
   "source": [
    "fibonacci = []\n",
    "num_input = int(input(\"Digite um número positivo: \"))"
   ]
  },
  {
   "cell_type": "code",
   "execution_count": 16,
   "id": "048385ed",
   "metadata": {},
   "outputs": [],
   "source": [
    "a = -1; b = 1; c = 0"
   ]
  },
  {
   "cell_type": "code",
   "execution_count": 17,
   "id": "4a6100b0",
   "metadata": {},
   "outputs": [
    {
     "name": "stdout",
     "output_type": "stream",
     "text": [
      "O número 4 não pertence a sequência fibonacci.\n"
     ]
    }
   ],
   "source": [
    "while c < num_input:\n",
    "    c = a + b\n",
    "    a = b\n",
    "    b = c\n",
    "    \n",
    "if c == num_input:\n",
    "    print(\"O número\",(num_input), \"pertence a sequência fibonacci.\")\n",
    "else:\n",
    "    print(\"O número\",(num_input), \"não pertence a sequência fibonacci.\")"
   ]
  },
  {
   "cell_type": "code",
   "execution_count": 18,
   "id": "7e7a2a86",
   "metadata": {},
   "outputs": [
    {
     "name": "stdout",
     "output_type": "stream",
     "text": [
      "0\n",
      "1\n",
      "1\n",
      "2\n",
      "3\n",
      "5\n",
      "8\n",
      "13\n",
      "21\n",
      "34\n",
      "55\n",
      "89\n",
      "144\n",
      "233\n",
      "377\n"
     ]
    }
   ],
   "source": [
    "x = 0; y = 1\n",
    "print(x)\n",
    "print(y)\n",
    "\n",
    "for i in range(0,13):\n",
    "    print (x + y)\n",
    "    z = x\n",
    "    x = y\n",
    "    y = z + y"
   ]
  }
 ],
 "metadata": {
  "kernelspec": {
   "display_name": "Python 3 (ipykernel)",
   "language": "python",
   "name": "python3"
  },
  "language_info": {
   "codemirror_mode": {
    "name": "ipython",
    "version": 3
   },
   "file_extension": ".py",
   "mimetype": "text/x-python",
   "name": "python",
   "nbconvert_exporter": "python",
   "pygments_lexer": "ipython3",
   "version": "3.9.0"
  }
 },
 "nbformat": 4,
 "nbformat_minor": 5
}
