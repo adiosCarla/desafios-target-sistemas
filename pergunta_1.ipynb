{
 "cells": [
  {
   "cell_type": "code",
   "execution_count": 1,
   "id": "e12b630d",
   "metadata": {},
   "outputs": [
    {
     "name": "stdout",
     "output_type": "stream",
     "text": [
      "O valor da variável soma é de: 91\n"
     ]
    }
   ],
   "source": [
    "indice = 13\n",
    "soma = 0\n",
    "k = 0\n",
    "\n",
    "while k < indice:\n",
    "    k = k + 1\n",
    "    soma = soma + k\n",
    "    \n",
    "print(\"O valor da variável soma é de:\", soma)"
   ]
  }
 ],
 "metadata": {
  "kernelspec": {
   "display_name": "Python 3 (ipykernel)",
   "language": "python",
   "name": "python3"
  },
  "language_info": {
   "codemirror_mode": {
    "name": "ipython",
    "version": 3
   },
   "file_extension": ".py",
   "mimetype": "text/x-python",
   "name": "python",
   "nbconvert_exporter": "python",
   "pygments_lexer": "ipython3",
   "version": "3.9.0"
  }
 },
 "nbformat": 4,
 "nbformat_minor": 5
}
