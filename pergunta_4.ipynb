{
 "cells": [
  {
   "cell_type": "code",
   "execution_count": 2,
   "id": "a31f1989",
   "metadata": {},
   "outputs": [],
   "source": [
    "sp = float (67.83643)\n",
    "rj = float (36.67866)\n",
    "mg = float (29.22988)\n",
    "es = float (27.16548)\n",
    "outros = float (19.84953)\n",
    "total = float(sp + rj + mg + es + outros)"
   ]
  },
  {
   "cell_type": "code",
   "execution_count": 3,
   "id": "d96c803c",
   "metadata": {},
   "outputs": [],
   "source": [
    "porcentagem_sp = ((sp/total)*100)\n",
    "porcentagem_rj = ((rj/total)*100)\n",
    "porcentagem_mg = ((mg/total)*100)\n",
    "porcentagem_es = ((es/total)*100)\n",
    "porcentagem_outros = ((outros/total)*100)"
   ]
  },
  {
   "cell_type": "code",
   "execution_count": 4,
   "id": "e4d1f83a",
   "metadata": {},
   "outputs": [
    {
     "name": "stdout",
     "output_type": "stream",
     "text": [
      "O percentual de representação que SP teve é de: 37.53%\n",
      "O percentual de representação que RJ teve é de: 20.29%\n",
      "O percentual de representação que MG teve é de: 16.17%\n",
      "O percentual de representação que ES teve é de: 15.03%\n",
      "O percentual de representação que outros teve é de: 10.98%\n"
     ]
    }
   ],
   "source": [
    "print(\"O percentual de representação que SP teve é de: \" + str(round(porcentagem_sp,2)) + \"%\")\n",
    "print(\"O percentual de representação que RJ teve é de: \" + str(round(porcentagem_rj,2)) + \"%\")\n",
    "print(\"O percentual de representação que MG teve é de: \" + str(round(porcentagem_mg,2)) + \"%\")\n",
    "print(\"O percentual de representação que ES teve é de: \" + str(round(porcentagem_es,2)) + \"%\")\n",
    "print(\"O percentual de representação que outros teve é de: \" + str(round(porcentagem_outros,2)) + \"%\")"
   ]
  }
 ],
 "metadata": {
  "kernelspec": {
   "display_name": "Python 3 (ipykernel)",
   "language": "python",
   "name": "python3"
  },
  "language_info": {
   "codemirror_mode": {
    "name": "ipython",
    "version": 3
   },
   "file_extension": ".py",
   "mimetype": "text/x-python",
   "name": "python",
   "nbconvert_exporter": "python",
   "pygments_lexer": "ipython3",
   "version": "3.9.0"
  }
 },
 "nbformat": 4,
 "nbformat_minor": 5
}
