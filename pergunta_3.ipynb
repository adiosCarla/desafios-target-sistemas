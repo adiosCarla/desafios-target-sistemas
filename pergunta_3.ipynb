{
 "cells": [
  {
   "cell_type": "code",
   "execution_count": 8,
   "id": "d81552e2",
   "metadata": {},
   "outputs": [],
   "source": [
    "import json\n",
    "import locale\n",
    "import statistics\n",
    "import pandas as pd"
   ]
  },
  {
   "cell_type": "code",
   "execution_count": 18,
   "id": "f9fb4839",
   "metadata": {},
   "outputs": [
    {
     "data": {
      "text/plain": [
       "'pt_BR.UTF-8'"
      ]
     },
     "execution_count": 18,
     "metadata": {},
     "output_type": "execute_result"
    }
   ],
   "source": [
    "locale.setlocale(locale.LC_ALL, 'pt_BR.UTF-8')"
   ]
  },
  {
   "cell_type": "code",
   "execution_count": 10,
   "id": "63067bb5",
   "metadata": {},
   "outputs": [],
   "source": [
    "dataframe = pd.read_json('dados.json')\n",
    "dataframe.to_csv('dados.csv')"
   ]
  },
  {
   "cell_type": "code",
   "execution_count": 11,
   "id": "3e37c410",
   "metadata": {},
   "outputs": [
    {
     "data": {
      "text/html": [
       "<div>\n",
       "<style scoped>\n",
       "    .dataframe tbody tr th:only-of-type {\n",
       "        vertical-align: middle;\n",
       "    }\n",
       "\n",
       "    .dataframe tbody tr th {\n",
       "        vertical-align: top;\n",
       "    }\n",
       "\n",
       "    .dataframe thead th {\n",
       "        text-align: right;\n",
       "    }\n",
       "</style>\n",
       "<table border=\"1\" class=\"dataframe\">\n",
       "  <thead>\n",
       "    <tr style=\"text-align: right;\">\n",
       "      <th></th>\n",
       "      <th>dia</th>\n",
       "      <th>valor</th>\n",
       "    </tr>\n",
       "  </thead>\n",
       "  <tbody>\n",
       "    <tr>\n",
       "      <th>0</th>\n",
       "      <td>1</td>\n",
       "      <td>22174.1664</td>\n",
       "    </tr>\n",
       "    <tr>\n",
       "      <th>1</th>\n",
       "      <td>2</td>\n",
       "      <td>24537.6698</td>\n",
       "    </tr>\n",
       "    <tr>\n",
       "      <th>2</th>\n",
       "      <td>3</td>\n",
       "      <td>26139.6134</td>\n",
       "    </tr>\n",
       "    <tr>\n",
       "      <th>3</th>\n",
       "      <td>4</td>\n",
       "      <td>0.0000</td>\n",
       "    </tr>\n",
       "    <tr>\n",
       "      <th>4</th>\n",
       "      <td>5</td>\n",
       "      <td>0.0000</td>\n",
       "    </tr>\n",
       "  </tbody>\n",
       "</table>\n",
       "</div>"
      ],
      "text/plain": [
       "   dia       valor\n",
       "0    1  22174.1664\n",
       "1    2  24537.6698\n",
       "2    3  26139.6134\n",
       "3    4      0.0000\n",
       "4    5      0.0000"
      ]
     },
     "execution_count": 11,
     "metadata": {},
     "output_type": "execute_result"
    }
   ],
   "source": [
    "dataframe = pd.read_csv('dados.csv', index_col=0)\n",
    "dataframe.head(5)"
   ]
  },
  {
   "cell_type": "code",
   "execution_count": 16,
   "id": "739cfdab",
   "metadata": {},
   "outputs": [
    {
     "data": {
      "text/plain": [
       "0    22174.1664\n",
       "1    24537.6698\n",
       "2    26139.6134\n",
       "5    26742.6612\n",
       "7    42889.2258\n",
       "Name: valor, dtype: float64"
      ]
     },
     "execution_count": 16,
     "metadata": {},
     "output_type": "execute_result"
    }
   ],
   "source": [
    "valor = dataframe['valor']\n",
    "dataframe = dataframe[dataframe['valor'] != 0]\n",
    "valor.head(5)"
   ]
  },
  {
   "cell_type": "code",
   "execution_count": 20,
   "id": "dcc10e26",
   "metadata": {},
   "outputs": [
    {
     "name": "stdout",
     "output_type": "stream",
     "text": [
      "O maior valor de faturamento ocorrido em um dia do mês foi de: R$ 48.924,24\n",
      "O menor valor de faturamento ocorrido em um dia do mês foi de: R$ 373,78\n",
      "O valor total do faturamento foi de: R$ 438.172,77\n",
      "O valor da média do faturamento foi de: R$ 20.865,37\n",
      "Número de dias no mês em que o valor de faturamento diário foi superior à média mensal: 10\n"
     ]
    }
   ],
   "source": [
    "maior = (max(valor))\n",
    "menor = (min(valor))\n",
    "total = (dataframe['valor'].sum())\n",
    "media = statistics.mean(valor)\n",
    "dias_acima = len ([i for i in valor if i > media])\n",
    "\n",
    "print(\"O maior valor de faturamento ocorrido em um dia do mês foi de:\", locale.currency(maior, grouping=True))\n",
    "print(\"O menor valor de faturamento ocorrido em um dia do mês foi de:\", locale.currency(menor, grouping=True))\n",
    "print(\"O valor total do faturamento foi de:\", locale.currency(total, grouping=True))\n",
    "print(\"O valor da média do faturamento foi de:\", locale.currency(media, grouping=True))\n",
    "print(\"Número de dias no mês em que o valor de faturamento diário foi superior à média mensal:\", (dias_acima))"
   ]
  }
 ],
 "metadata": {
  "kernelspec": {
   "display_name": "Python 3 (ipykernel)",
   "language": "python",
   "name": "python3"
  },
  "language_info": {
   "codemirror_mode": {
    "name": "ipython",
    "version": 3
   },
   "file_extension": ".py",
   "mimetype": "text/x-python",
   "name": "python",
   "nbconvert_exporter": "python",
   "pygments_lexer": "ipython3",
   "version": "3.9.0"
  }
 },
 "nbformat": 4,
 "nbformat_minor": 5
}
